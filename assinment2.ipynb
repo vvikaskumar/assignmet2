{
 "cells": [
  {
   "cell_type": "markdown",
   "id": "c77b523a-4da6-4524-90a4-864c9dfd7093",
   "metadata": {},
   "source": [
    "Q1. HOW DO YOU COMMENT CODE IN PYTHON? WHAT ARE THE DIFFERENT TYPES OF COMMENTS?\n",
    "\n",
    "Ans - comments code in python are identified with a hash symbol , # , and extend to the end of line\n",
    "      hash characters in a string are not considered comments \n",
    "      There are thre types of comments : single-line , multi-line  and docstring comments\n",
    "      the syntax of comments varies depending on type.\n",
    "      Single-line comment ~ sinle-line comments begin wit \"#\" character. Anything that is written in \n",
    "      single line after \"#\" is cosidered as a comment."
   ]
  },
  {
   "cell_type": "markdown",
   "id": "9b216342-8248-4ff6-861a-8b5882ad1509",
   "metadata": {},
   "source": [
    "Q2. What are variables in python? How do you declare and assign values to variable?\n",
    "\n",
    "Ans - A variable is a string of characters and numbers associated with piece of \n",
    "    information. The assignment operator , denoted by \"=' symbol , is the operator\n",
    "    that is used to aasign values to variables in python.The line x=1 takes the known \n",
    "    value ,1, and assign that value to the variable with name \"X\".\n",
    "    A variable  is more like a container to store data in computer's memory, the name of variable\n",
    "    tells the computer where to find this value in the memory. example in next cell\n",
    "    "
   ]
  },
  {
   "cell_type": "code",
   "execution_count": 1,
   "id": "4147bb0b-1767-4239-8795-d72fe3f1502f",
   "metadata": {},
   "outputs": [],
   "source": [
    "v = 1"
   ]
  },
  {
   "cell_type": "code",
   "execution_count": 2,
   "id": "5b4ef04c-4019-403d-a2c6-97e623d3df20",
   "metadata": {},
   "outputs": [
    {
     "data": {
      "text/plain": [
       "1"
      ]
     },
     "execution_count": 2,
     "metadata": {},
     "output_type": "execute_result"
    }
   ],
   "source": [
    "v"
   ]
  },
  {
   "cell_type": "markdown",
   "id": "ed5670ec-a302-496e-b81d-e98f29c4eb8c",
   "metadata": {},
   "source": [
    "Q3. How do you convert one data type to another in Python?\n",
    "\n",
    "Ans - The act of changing an object's data type is known as type conversion.\n",
    "    The python interpreter automatically performs implicit type conversion.\n",
    "    python prevent implicit type conversion from losing data.\n",
    "    The user converts the data types of objects using specified functions in\n",
    "    explicit type conversion, sometimes referred to as type casting.When the type \n",
    "    casting , data loss could happen if the object is force to conform to a\n",
    "    particular data type. example in next cell"
   ]
  },
  {
   "cell_type": "code",
   "execution_count": 4,
   "id": "255b072f-c908-4e23-8db2-0a15ae23220a",
   "metadata": {},
   "outputs": [
    {
     "name": "stdout",
     "output_type": "stream",
     "text": [
      "x is of type: <class 'int'>\n",
      "y is of type: <class 'float'>\n",
      "20.6\n",
      "z is of type: <class 'float'>\n"
     ]
    }
   ],
   "source": [
    "x = 10\n",
    "print(\"x is of type:\",type(x))\n",
    "y = 10.6\n",
    "print(\"y is of type:\",type(y))\n",
    "z = x+y\n",
    "print(z)\n",
    "print(\"z is of type:\",type(z))"
   ]
  },
  {
   "cell_type": "markdown",
   "id": "1dcd2ed0-8256-439d-a6c7-4464caf225b5",
   "metadata": {},
   "source": [
    "Q4. How do you write and execute a Python script from the command line?\n",
    "\n",
    "Ans - Here is the way of doing thid step by step\n",
    "    step 1\n",
    "    print('Hello World!')\n",
    "    step 2\n",
    "    python first_script.py\n",
    "Hello World!\n",
    "step 3\n",
    "python first_script.py > output.txt\n",
    "step 4\n",
    " python -m <module-name>. \n",
    "    step 5\n",
    "     __main__:\n",
    "    step 6\n",
    "        python -m first_script\n",
    "Hello World!\n",
    "    step 6\n",
    "    \n",
    "    using another way\n",
    "    step 1\n",
    "    C:\\Users\\Local\\Python\\Python37> first_script.py\n",
    "Hello World!\n",
    "    step 2\n",
    "    #Assign the execution permissions\n",
    "chmod +x first_script.py\n",
    "#Run script using its filename\n",
    "./first_script.py\n",
    "Hello World!"
   ]
  },
  {
   "cell_type": "markdown",
   "id": "3e8142d9-c45f-423d-8c73-d648652306d0",
   "metadata": {},
   "source": [
    "Q5. Given a list my_list = [1, 2, 3, 4, 5], write the code to slice the list and obtain the sub-list [2, 3].\n",
    "Ans - solution in next cell\n"
   ]
  },
  {
   "cell_type": "code",
   "execution_count": 5,
   "id": "d979042f-c0ba-4e72-9630-050791a67f34",
   "metadata": {},
   "outputs": [],
   "source": [
    "my_list =[1,2,3,4,5]"
   ]
  },
  {
   "cell_type": "code",
   "execution_count": 10,
   "id": "5c913bfe-e556-4325-87f7-405a9c18b5f5",
   "metadata": {},
   "outputs": [
    {
     "data": {
      "text/plain": [
       "[2, 3]"
      ]
     },
     "execution_count": 10,
     "metadata": {},
     "output_type": "execute_result"
    }
   ],
   "source": [
    "my_list[1:3:]"
   ]
  },
  {
   "cell_type": "markdown",
   "id": "9237e82d-e215-4fb2-9176-a71faa46b7b6",
   "metadata": {},
   "source": [
    "Q6. What is a complex number in mathematics, and how is it represented in Python?\n",
    "Ans -  In mathematics complex numbers are created from two real numbers.\n",
    "    in python we represented it (x+yj) where x and y are real numbers and j is an imaginary number\n",
    "    which is the squre root of -1."
   ]
  },
  {
   "cell_type": "markdown",
   "id": "d7946d46-d4cf-4625-bf7f-5fbeab82fdaf",
   "metadata": {},
   "source": [
    "Q7. What is the correct way to declare a variable named age and assign the value 25 to it?\n",
    "Ans - solution is next cell."
   ]
  },
  {
   "cell_type": "code",
   "execution_count": 11,
   "id": "d95b5e9c-39e8-4116-8289-20f8017b6001",
   "metadata": {},
   "outputs": [],
   "source": [
    "v = \"vikas\"\n"
   ]
  },
  {
   "cell_type": "code",
   "execution_count": 12,
   "id": "0c61bf79-69cc-4e31-952a-9a61d483bee5",
   "metadata": {},
   "outputs": [
    {
     "data": {
      "text/plain": [
       "'vikas'"
      ]
     },
     "execution_count": 12,
     "metadata": {},
     "output_type": "execute_result"
    }
   ],
   "source": [
    "v"
   ]
  },
  {
   "cell_type": "code",
   "execution_count": 13,
   "id": "dc456fe5-cf0c-41e9-a2b4-ab74302d486b",
   "metadata": {},
   "outputs": [],
   "source": [
    "vikas_age = 25"
   ]
  },
  {
   "cell_type": "code",
   "execution_count": 14,
   "id": "8dbfc32c-3f0d-4897-bb25-17500441e49c",
   "metadata": {},
   "outputs": [
    {
     "data": {
      "text/plain": [
       "25"
      ]
     },
     "execution_count": 14,
     "metadata": {},
     "output_type": "execute_result"
    }
   ],
   "source": [
    "vikas_age"
   ]
  },
  {
   "cell_type": "code",
   "execution_count": 15,
   "id": "e6039dce-21e9-49e4-87c7-cc20db0d1f40",
   "metadata": {},
   "outputs": [
    {
     "data": {
      "text/plain": [
       "int"
      ]
     },
     "execution_count": 15,
     "metadata": {},
     "output_type": "execute_result"
    }
   ],
   "source": [
    "type(vikas_age)"
   ]
  },
  {
   "cell_type": "code",
   "execution_count": 16,
   "id": "edd10269-3ecc-466e-9aa3-25ccccbc08ba",
   "metadata": {},
   "outputs": [
    {
     "data": {
      "text/plain": [
       "str"
      ]
     },
     "execution_count": 16,
     "metadata": {},
     "output_type": "execute_result"
    }
   ],
   "source": [
    "type(v)"
   ]
  },
  {
   "cell_type": "markdown",
   "id": "d37f3eec-cbca-4700-87a8-51f50b3e0b92",
   "metadata": {},
   "source": [
    "Q8. Declare a variable named price and assign the value 9.99 to it. What data type does this variable\n",
    "belong to?\n",
    "ANS - aolution is next cell\n"
   ]
  },
  {
   "cell_type": "code",
   "execution_count": 17,
   "id": "7ee22392-5e15-4852-8cc5-c17d775ed6c8",
   "metadata": {},
   "outputs": [],
   "source": [
    "price = 9.99"
   ]
  },
  {
   "cell_type": "code",
   "execution_count": 18,
   "id": "1873f5bb-c9b0-4651-9d41-557164f12480",
   "metadata": {},
   "outputs": [
    {
     "data": {
      "text/plain": [
       "float"
      ]
     },
     "execution_count": 18,
     "metadata": {},
     "output_type": "execute_result"
    }
   ],
   "source": [
    "type(price)"
   ]
  },
  {
   "cell_type": "markdown",
   "id": "e99afefe-fb1c-447f-852a-9257eddcb0e6",
   "metadata": {},
   "source": [
    "Q9. Create a variable named name and assign your full name to it as a string. How would you print the\n",
    "value of this variable?\n",
    "Ans - solution is next cell"
   ]
  },
  {
   "cell_type": "code",
   "execution_count": 19,
   "id": "00e5b04c-5f06-4989-8348-3449e3ab865d",
   "metadata": {},
   "outputs": [],
   "source": [
    "name = \"vikas kumar\""
   ]
  },
  {
   "cell_type": "code",
   "execution_count": 20,
   "id": "aa03b340-2615-4e3a-ad44-4f14ed24f107",
   "metadata": {},
   "outputs": [
    {
     "data": {
      "text/plain": [
       "'vikas kumar'"
      ]
     },
     "execution_count": 20,
     "metadata": {},
     "output_type": "execute_result"
    }
   ],
   "source": [
    "name"
   ]
  },
  {
   "cell_type": "code",
   "execution_count": 21,
   "id": "512f151d-0412-45eb-a912-e4f00b8e2b99",
   "metadata": {},
   "outputs": [
    {
     "data": {
      "text/plain": [
       "str"
      ]
     },
     "execution_count": 21,
     "metadata": {},
     "output_type": "execute_result"
    }
   ],
   "source": [
    "type(name)"
   ]
  },
  {
   "cell_type": "markdown",
   "id": "2a9ac0e1-e3f0-4ed9-8ae2-707cbae39dc9",
   "metadata": {},
   "source": [
    "Q10. Given the string \"Hello, World!\", extract the substring \"World\".\n",
    "\n",
    "Ans - solution is next cell"
   ]
  },
  {
   "cell_type": "code",
   "execution_count": 50,
   "id": "e829883d-9205-4cc0-950c-e361725738cc",
   "metadata": {},
   "outputs": [],
   "source": [
    "python = \"Hello , World!\""
   ]
  },
  {
   "cell_type": "code",
   "execution_count": 51,
   "id": "5f9505e4-1a08-4856-a2d7-8cb61e37c22c",
   "metadata": {},
   "outputs": [
    {
     "data": {
      "text/plain": [
       "'Hello , World!'"
      ]
     },
     "execution_count": 51,
     "metadata": {},
     "output_type": "execute_result"
    }
   ],
   "source": [
    "python"
   ]
  },
  {
   "cell_type": "code",
   "execution_count": 59,
   "id": "60080af4-5cb6-4fb9-ae70-75b5f24c4468",
   "metadata": {},
   "outputs": [
    {
     "data": {
      "text/plain": [
       "' World'"
      ]
     },
     "execution_count": 59,
     "metadata": {},
     "output_type": "execute_result"
    }
   ],
   "source": [
    "python[7:13]"
   ]
  },
  {
   "cell_type": "markdown",
   "id": "b5b61c9b-baa6-477c-92e3-9d2f1364772c",
   "metadata": {},
   "source": [
    "Q11. Create a variable named \"is_student\" and assign it a boolean value indicating whether you are\n",
    "currently a student or not.\n",
    "Ans - solution is next cell "
   ]
  },
  {
   "cell_type": "code",
   "execution_count": 60,
   "id": "f9b7ac65-e1f5-4003-9b06-4c8000e750a6",
   "metadata": {},
   "outputs": [],
   "source": [
    "is_student = True"
   ]
  },
  {
   "cell_type": "code",
   "execution_count": null,
   "id": "9f27f6e0-c78f-4d7f-8332-5054b493e99b",
   "metadata": {},
   "outputs": [],
   "source": [
    "is"
   ]
  }
 ],
 "metadata": {
  "kernelspec": {
   "display_name": "Python 3 (ipykernel)",
   "language": "python",
   "name": "python3"
  },
  "language_info": {
   "codemirror_mode": {
    "name": "ipython",
    "version": 3
   },
   "file_extension": ".py",
   "mimetype": "text/x-python",
   "name": "python",
   "nbconvert_exporter": "python",
   "pygments_lexer": "ipython3",
   "version": "3.10.8"
  }
 },
 "nbformat": 4,
 "nbformat_minor": 5
}
